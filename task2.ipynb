{
  "nbformat": 4,
  "nbformat_minor": 0,
  "metadata": {
    "colab": {
      "name": "task2.ipynb",
      "provenance": [],
      "collapsed_sections": [],
      "toc_visible": true
    },
    "kernelspec": {
      "name": "python3",
      "display_name": "Python 3"
    }
  },
  "cells": [
    {
      "cell_type": "markdown",
      "metadata": {
        "id": "_nO40Kz8IdPC"
      },
      "source": [
        "**NAME - NEHA GANESHE**\r\n",
        "\r\n",
        "#TASK 2\r\n",
        "PREDICTION USING UNSUPERVISED LEARNING (ML) \r\n",
        "FROM THE GIVEN 'IRIS' DATASET, PREDICT THE OPTIMUM NUMBER OF CLUSTERS AND REPRESENT IT VISUALLY.\r\n",
        "\r\n",
        "-"
      ]
    },
    {
      "cell_type": "markdown",
      "metadata": {
        "id": "OrHjnQLMJhnd"
      },
      "source": [
        "LOADING NECESSARY LIBRARIES"
      ]
    },
    {
      "cell_type": "code",
      "metadata": {
        "id": "k7RCEhYSTl9o"
      },
      "source": [
        "import numpy as np\r\n",
        "import matplotlib.pyplot as plt\r\n",
        "import pandas as pd\r\n",
        "from sklearn import datasets\r\n"
      ],
      "execution_count": 1,
      "outputs": []
    },
    {
      "cell_type": "markdown",
      "metadata": {
        "id": "IAVaRpX3Jqzs"
      },
      "source": [
        "LOADING THE DATASET"
      ]
    },
    {
      "cell_type": "code",
      "metadata": {
        "id": "xQ-yor14UCFV"
      },
      "source": [
        "df = pd.read_csv('/Iris.csv')\r\n",
        "df.head()"
      ],
      "execution_count": null,
      "outputs": []
    },
    {
      "cell_type": "code",
      "metadata": {
        "id": "X_Rd1DQCW6XP"
      },
      "source": [
        "x = df.iloc[:, [0, 1, 2, 3]].values\r\n",
        "\r\n",
        "from sklearn.cluster import KMeans\r\n",
        "wcss = []\r\n",
        "\r\n",
        "for i in range(1, 11):\r\n",
        "    kmeans = KMeans(n_clusters=i, init = 'k-means++', max_iter = 300, n_init = 10, random_state = 0)\r\n",
        "    kmeans.fit(x)\r\n",
        "    wcss.append(kmeans.inertia_)"
      ],
      "execution_count": null,
      "outputs": []
    },
    {
      "cell_type": "code",
      "metadata": {
        "id": "9h3fnZY4YOqp"
      },
      "source": [
        "plt.plot(range(1, 11), wcss)\r\n",
        "plt.title('checking the variables')\r\n",
        "plt.xlabel('number of clusters')\r\n",
        "plt.ylabel('wcss')\r\n",
        "plt.show()\r\n"
      ],
      "execution_count": null,
      "outputs": []
    },
    {
      "cell_type": "code",
      "metadata": {
        "id": "IGuvQtAyZ74l"
      },
      "source": [
        "kmeans = KMeans(n_clusters = 3, init = 'k-means++', max_iter = 300, n_init = 10, random_state = 0)\r\n",
        "y_kmeans = kmeans.fit_predict(x) "
      ],
      "execution_count": null,
      "outputs": []
    },
    {
      "cell_type": "code",
      "metadata": {
        "id": "VhZTdvtmcXFL"
      },
      "source": [
        "#visualizing the cluster\r\n",
        "plt.scatter(x[y_kmeans ==0, 0], x[y_kmeans ==0, 1], s = 100, c='red', label = 'Setosa')\r\n",
        "plt.scatter(x[y_kmeans ==1, 0], x[y_kmeans ==1, 1], s = 100, c='blue', label = 'Versicolor')\r\n",
        "plt.scatter(x[y_kmeans ==2, 0], x[y_kmeans ==2, 1], s = 100, c='green', label = 'Virginica')\r\n",
        "\r\n",
        "#plotting the centroids of the cluster\r\n",
        "plt.scatter(kmeans.cluster_centers_[:,0], kmeans.cluster_centers_[:,1], s = 100, c='yellow', label = 'Centroids')\r\n",
        "\r\n",
        "plt.legend()"
      ],
      "execution_count": null,
      "outputs": []
    },
    {
      "cell_type": "markdown",
      "metadata": {
        "id": "qIb0_lvFIbL4"
      },
      "source": [
        ""
      ]
    },
    {
      "cell_type": "code",
      "metadata": {
        "id": "BrzHrUDId92G"
      },
      "source": [
        ""
      ],
      "execution_count": null,
      "outputs": []
    }
  ]
}